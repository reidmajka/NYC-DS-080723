{
 "cells": [
  {
   "cell_type": "markdown",
   "metadata": {
    "slideshow": {
     "slide_type": "slide"
    }
   },
   "source": [
    "<div style=\"color:white;\n",
    "           display:fill;\n",
    "           border-radius:5px;\n",
    "           background-color:#5642C5;\n",
    "           font-size:200%;\n",
    "           font-\\amily:Arial;letter-spacing:0.5px\">\n",
    "\n",
    "<p width = 20%, style=\"padding: 10px;\n",
    "              color:white;\">\n",
    "Object Oriented Programming\n",
    "              \n",
    "</p>\n",
    "</div>\n",
    "\n",
    "Data Science Cohort Live NYC 2023\n",
    "<p>Phase 3</p>\n",
    "<br>\n",
    "<br>\n",
    "\n",
    "<div align = \"right\">\n",
    "<img src=\"Images/flatiron-school-logo.png\" align = \"right\" width=\"200\"/>\n",
    "</div>"
   ]
  },
  {
   "cell_type": "markdown",
   "metadata": {
    "slideshow": {
     "slide_type": "slide"
    }
   },
   "source": [
    "# Objectives\n",
    "- Understand the concept of **classes** and **objects**\n",
    "- Explain the idea that _\"everything in Python is an object\"_\n",
    "- Use the concept of an object's **property**\n",
    "- Use the concept of an object's **method**"
   ]
  },
  {
   "cell_type": "markdown",
   "metadata": {
    "cell_style": "split",
    "slideshow": {
     "slide_type": "slide"
    }
   },
   "source": [
    "#### Objected Oriented Programming\n",
    "\n",
    "- We've actually been using this without realizing it.\n"
   ]
  },
  {
   "cell_type": "markdown",
   "metadata": {
    "cell_style": "split",
    "slideshow": {
     "slide_type": "fragment"
    }
   },
   "source": [
    "#### Examples\n",
    "\n",
    "- results object in statsmodels OLS fit\n",
    "- requests object or BeautifulSoup objects in web scraping\n",
    "- sklearn LinearRegression models\n",
    "- fig and ax objects in Matplotlib"
   ]
  },
  {
   "cell_type": "markdown",
   "metadata": {
    "cell_style": "center",
    "slideshow": {
     "slide_type": "slide"
    }
   },
   "source": [
    "#### Object Oriented Program in a Nutshell"
   ]
  },
  {
   "cell_type": "markdown",
   "metadata": {
    "cell_style": "center",
    "slideshow": {
     "slide_type": "slide"
    }
   },
   "source": [
    "<center><img src = \"Images/pikachu.png\" width = 800 /></center>"
   ]
  },
  {
   "cell_type": "markdown",
   "metadata": {
    "cell_style": "split",
    "slideshow": {
     "slide_type": "fragment"
    }
   },
   "source": [
    "- Class: Pokemon\n",
    "- object instance of Pokemon class"
   ]
  },
  {
   "cell_type": "markdown",
   "metadata": {
    "cell_style": "split",
    "slideshow": {
     "slide_type": "fragment"
    }
   },
   "source": [
    "- Attributes = Fields. Properties of object instance.\n",
    "- Methods: an action. Can change state of object instance."
   ]
  },
  {
   "cell_type": "markdown",
   "metadata": {
    "cell_style": "center",
    "slideshow": {
     "slide_type": "slide"
    }
   },
   "source": [
    "<center><img src = \"Images/pikachu.png\" width = 800 /></center>"
   ]
  },
  {
   "cell_type": "markdown",
   "metadata": {
    "hidden": true,
    "slideshow": {
     "slide_type": "slide"
    }
   },
   "source": [
    "-  **Class**: general class of similar objects\n",
    "- Want common attributes/methods for each instantiated object\n",
    "\n",
    "**Pokemon is general class. Pikachu is an object of class Pokemon.**"
   ]
  },
  {
   "cell_type": "markdown",
   "metadata": {
    "slideshow": {
     "slide_type": "fragment"
    }
   },
   "source": [
    "<center><img src = \"Images/pikachu.png\" width = 800 /></center>"
   ]
  },
  {
   "cell_type": "markdown",
   "metadata": {
    "slideshow": {
     "slide_type": "slide"
    }
   },
   "source": [
    "<img src='http://www.expertphp.in/images/articles/ArtImgC67UTd_classes_and_objects.jpg' width=75%/>"
   ]
  },
  {
   "cell_type": "markdown",
   "metadata": {
    "cell_style": "center",
    "slideshow": {
     "slide_type": "slide"
    }
   },
   "source": [
    "**Fields/Attributes**:\n",
    "- objects of same class share same attributes\n",
    "- each attribute takes on different values for different instantiations.\n",
    "    \n",
    "e.g., Name, Type, Health attributes common to all pokemons\n"
   ]
  },
  {
   "cell_type": "markdown",
   "metadata": {
    "slideshow": {
     "slide_type": "slide"
    }
   },
   "source": [
    "<center><img src = \"Images/pikachu.png\" width = 800 /></center>"
   ]
  },
  {
   "cell_type": "markdown",
   "metadata": {
    "slideshow": {
     "slide_type": "fragment"
    }
   },
   "source": [
    "**Methods**:\n",
    "- Objects in given Class can execute common set of functions\n",
    "- Functions can change internal state of object\n",
    "    - i.e. change attributes: .evolve() can change health, name, etc."
   ]
  },
  {
   "cell_type": "markdown",
   "metadata": {
    "slideshow": {
     "slide_type": "slide"
    }
   },
   "source": [
    "#### Creating a class in Python"
   ]
  },
  {
   "cell_type": "markdown",
   "metadata": {
    "slideshow": {
     "slide_type": "fragment"
    }
   },
   "source": [
    "Create simple class using class constructor and initialization:"
   ]
  },
  {
   "cell_type": "code",
   "execution_count": 1,
   "metadata": {
    "cell_style": "center",
    "slideshow": {
     "slide_type": "fragment"
    }
   },
   "outputs": [],
   "source": [
    "class Pokemon:\n",
    "\n",
    "    def __init__(self, name, lvl, health, attack_points, defense_points): \n",
    "        \n",
    "        # ^^ the init is initialize. \n",
    "        #they usually start w/ \"self\"\n",
    "        #\n",
    "        \n",
    "        self.name = name\n",
    "        self.level = lvl\n",
    "        self.life = health\n",
    "        self.attack_power = attack_points\n",
    "        self.defense_points = defense_points\n",
    "        "
   ]
  },
  {
   "cell_type": "markdown",
   "metadata": {
    "slideshow": {
     "slide_type": "fragment"
    }
   },
   "source": [
    "the __init__ method is a special function:\n",
    "\n",
    "- the first argument is always: *self*\n",
    "- *self* refers to specific instance of class. \n",
    "- the other arguments: initalization arguments \n",
    "    - user specified inputs in initializing instance.\n",
    "    - can have default arguments\n"
   ]
  },
  {
   "cell_type": "markdown",
   "metadata": {
    "slideshow": {
     "slide_type": "slide"
    }
   },
   "source": [
    "#### Let's see this in action "
   ]
  },
  {
   "cell_type": "markdown",
   "metadata": {
    "slideshow": {
     "slide_type": "fragment"
    }
   },
   "source": [
    "Create an instance of a Pokemon:\n",
    "- Create and instantiate a Pikachu."
   ]
  },
  {
   "cell_type": "code",
   "execution_count": 2,
   "metadata": {
    "slideshow": {
     "slide_type": "fragment"
    }
   },
   "outputs": [],
   "source": [
    "pikachu = Pokemon('Pikachu', 2, 70, 7, 4)"
   ]
  },
  {
   "cell_type": "markdown",
   "metadata": {
    "cell_style": "split",
    "slideshow": {
     "slide_type": "fragment"
    }
   },
   "source": [
    "\n",
    "Let's check out some of the attributes"
   ]
  },
  {
   "cell_type": "code",
   "execution_count": 3,
   "metadata": {
    "cell_style": "split",
    "slideshow": {
     "slide_type": "fragment"
    }
   },
   "outputs": [
    {
     "data": {
      "text/plain": [
       "7"
      ]
     },
     "execution_count": 3,
     "metadata": {},
     "output_type": "execute_result"
    }
   ],
   "source": [
    "pikachu.attack_power"
   ]
  },
  {
   "cell_type": "code",
   "execution_count": 4,
   "metadata": {
    "slideshow": {
     "slide_type": "slide"
    }
   },
   "outputs": [],
   "source": [
    "class Pokemon:\n",
    "    \n",
    "    def __init__(self, name, lvl, health, attack_points, defense_points):\n",
    "        \n",
    "        self.name = name\n",
    "        self.level = lvl\n",
    "        self.life = health\n",
    "        self.attack_power = attack_points\n",
    "        self.defense_points = defense_points"
   ]
  },
  {
   "cell_type": "markdown",
   "metadata": {
    "cell_style": "center",
    "slideshow": {
     "slide_type": "fragment"
    }
   },
   "source": [
    "- So far the class object is like a grouping of variables (like a dict). \n",
    "- Adding methods give class objects a richer structure"
   ]
  },
  {
   "cell_type": "markdown",
   "metadata": {
    "cell_style": "center",
    "slideshow": {
     "slide_type": "fragment"
    }
   },
   "source": [
    "#### Methods\n",
    "\n",
    "- Create functions that:\n",
    "    - return object state\n",
    "    - update object state (i.e. change internal attributes)\n",
    "    - do it based on information external to object.\n"
   ]
  },
  {
   "cell_type": "code",
   "execution_count": 5,
   "metadata": {
    "cell_style": "center",
    "code_folding": [
     12
    ],
    "slideshow": {
     "slide_type": "slide"
    }
   },
   "outputs": [],
   "source": [
    "class Pokemon:\n",
    "    \n",
    "    def __init__(self, name, lvl, health, attack_points, defense_points):\n",
    "        \n",
    "        self.name = name\n",
    "        self.level = lvl\n",
    "        self.life = health\n",
    "        self.attack_power = attack_points\n",
    "        self.defense_points = defense_points\n",
    "    \n",
    "    def get_state(self):\n",
    "        \n",
    "        state_dict = {'name': self.name, 'level': self.level, 'life': self.life,\n",
    "                     'attack': self.attack_power, 'defense': self.defense_points}\n",
    "        return state_dict\n",
    "        \n",
    "    def evolve(self, evolved_name):\n",
    "        #Change Pokemon name to given evolved name state\n",
    "        self.name = evolved_name\n",
    "        \n",
    "        #level up the stats\n",
    "        self.level += 1\n",
    "        self.life += 30\n",
    "        self.attack_power += 4\n",
    "        self.defense_points += 3"
   ]
  },
  {
   "cell_type": "code",
   "execution_count": 6,
   "metadata": {
    "cell_style": "split",
    "slideshow": {
     "slide_type": "slide"
    }
   },
   "outputs": [],
   "source": [
    "pikachu = Pokemon('Pikachu', 2, 70, 7, 4)"
   ]
  },
  {
   "cell_type": "code",
   "execution_count": 9,
   "metadata": {
    "cell_style": "split",
    "slideshow": {
     "slide_type": "fragment"
    }
   },
   "outputs": [
    {
     "data": {
      "text/plain": [
       "{'name': 'Pikachu', 'level': 2, 'life': 70, 'attack': 7, 'defense': 4}"
      ]
     },
     "execution_count": 9,
     "metadata": {},
     "output_type": "execute_result"
    }
   ],
   "source": [
    "pikachu.get_state()"
   ]
  },
  {
   "cell_type": "markdown",
   "metadata": {
    "cell_style": "split",
    "slideshow": {
     "slide_type": "slide"
    }
   },
   "source": [
    "<img src = \"Images/evolution_phases.jpeg\" width = 700 />"
   ]
  },
  {
   "cell_type": "code",
   "execution_count": 10,
   "metadata": {
    "cell_style": "split",
    "slideshow": {
     "slide_type": "fragment"
    }
   },
   "outputs": [],
   "source": [
    "pikachu.evolve('Raichu')"
   ]
  },
  {
   "cell_type": "code",
   "execution_count": 11,
   "metadata": {
    "cell_style": "split",
    "slideshow": {
     "slide_type": "fragment"
    }
   },
   "outputs": [
    {
     "data": {
      "text/plain": [
       "{'name': 'Raichu', 'level': 3, 'life': 100, 'attack': 11, 'defense': 7}"
      ]
     },
     "execution_count": 11,
     "metadata": {},
     "output_type": "execute_result"
    }
   ],
   "source": [
    "pikachu.get_state()"
   ]
  },
  {
   "cell_type": "markdown",
   "metadata": {
    "cell_style": "split",
    "slideshow": {
     "slide_type": "slide"
    }
   },
   "source": [
    "Let's have fun with another class:\n",
    "- Create a koala class with each instance a koala that eats bunches of eucalyptus and poops.\n",
    "- Each bunch of eucalyptus weighs a pound.\n",
    "- Pooping gets rid of half a pound.\n",
    "- If the load in the koala's belly goes past 6 pounds:\n",
    "    - the koala dies by belly explosion."
   ]
  },
  {
   "cell_type": "markdown",
   "metadata": {
    "cell_style": "split",
    "slideshow": {
     "slide_type": "fragment"
    }
   },
   "source": [
    "<center><img src = \"Images/gastro.jpg\" width = 1000/></center>"
   ]
  },
  {
   "cell_type": "markdown",
   "metadata": {
    "slideshow": {
     "slide_type": "slide"
    }
   },
   "source": [
    "Your data science instructor really doesn't get this objected oriented programming stuff! Help him out.\n",
    "- Koala takes in belly_weight, name, status(defalut is \"Alive)\n",
    "- alive_status method that if weight > 6, status = \"Dead\", if not then pass. It also prints out status\n"
   ]
  },
  {
   "cell_type": "code",
   "execution_count": 17,
   "metadata": {
    "cell_style": "center",
    "slideshow": {
     "slide_type": "fragment"
    }
   },
   "outputs": [],
   "source": [
    "class Koala:\n",
    "    \n",
    "    # first need to initialize. \n",
    "    #define relevant variables.\n",
    "    def __init__(self, belly_weight, name, status = 'Alive'):\n",
    "        \n",
    "        self.name = name\n",
    "        self.weight = belly_weight\n",
    "        self.status = status   \n",
    "    \n",
    "    \n",
    "    \n",
    "    def alive_status(self):\n",
    "        \n",
    "        if self.weight > 6:\n",
    "            self.status = 'Dead'\n",
    "        else:\n",
    "            pass\n",
    "        return self.status\n",
    "    \n",
    "    # eat_eucalyptus() method     \n",
    "    def eat_eucalyptus(self, num_bunches = 1):\n",
    "        if self.status == 'Alive':\n",
    "            self.weight += num_bunches\n",
    "        else:\n",
    "            print(\"Dead koalas dont eat\")\n",
    "        \n",
    "\n",
    "    # poop() method\n",
    "    def poop(self, poop_weight = 0.5):\n",
    "        if self.status == 'Alive':\n",
    "            self.weight -= poop_weight\n",
    "        else:\n",
    "            print(\"Dead koalas don't poop.\")\n",
    "    \n",
    "    \n",
    "    "
   ]
  },
  {
   "cell_type": "markdown",
   "metadata": {},
   "source": [
    "\n",
    "<details>\n",
    "    <summary><b><u>Answer</u></b></summary>\n",
    "\n",
    "```python \n",
    "\n",
    "\n",
    "\n",
    "class Koala:\n",
    "    \n",
    "    # first need to initialize. \n",
    "    #define relevant variables.\n",
    "    def __init__(self, belly_weight, name, status = 'Alive'):\n",
    "        self.name = name\n",
    "        self.weight = belly_weight\n",
    "        self.status = status\n",
    "    \n",
    "    \n",
    "    def alive_status(self):\n",
    "        if self.weight > 6:\n",
    "            self.status = 'Dead'\n",
    "\n",
    "        else:\n",
    "            pass\n",
    "        return self.status\n",
    "       \n",
    "        \n",
    "        \n",
    "        \n",
    "    # eat_eucalyptus() method     \n",
    "    def eat_eucalyptus(self, num_bunches = 1):\n",
    "        if self.status == 'Alive':\n",
    "            self.weight += num_bunches\n",
    "        else:\n",
    "            print(\"Dead koalas dont eat\")\n",
    "        \n",
    "\n",
    "    # poop() method\n",
    "    def poop(self, poop_weight = 0.5):\n",
    "        if self.status == 'Alive':\n",
    "            self.weight -= poop_weight\n",
    "        else:\n",
    "            print(\"Dead koalas don't poop.\")\n",
    "      \n",
    "```\n",
    "</details>"
   ]
  },
  {
   "cell_type": "code",
   "execution_count": 18,
   "metadata": {
    "slideshow": {
     "slide_type": "slide"
    }
   },
   "outputs": [],
   "source": [
    "koala1 = Koala(1, 'Randy')\n",
    "koala1.eat_eucalyptus()"
   ]
  },
  {
   "cell_type": "code",
   "execution_count": 19,
   "metadata": {
    "slideshow": {
     "slide_type": "fragment"
    }
   },
   "outputs": [],
   "source": [
    "koala1.eat_eucalyptus(2)"
   ]
  },
  {
   "cell_type": "code",
   "execution_count": 20,
   "metadata": {
    "slideshow": {
     "slide_type": "fragment"
    }
   },
   "outputs": [
    {
     "data": {
      "text/plain": [
       "'Alive'"
      ]
     },
     "execution_count": 20,
     "metadata": {},
     "output_type": "execute_result"
    }
   ],
   "source": [
    "koala1.alive_status()"
   ]
  },
  {
   "cell_type": "code",
   "execution_count": 21,
   "metadata": {
    "slideshow": {
     "slide_type": "fragment"
    }
   },
   "outputs": [],
   "source": [
    "koala1.poop()"
   ]
  },
  {
   "cell_type": "code",
   "execution_count": 22,
   "metadata": {
    "slideshow": {
     "slide_type": "fragment"
    }
   },
   "outputs": [
    {
     "data": {
      "text/plain": [
       "3.5"
      ]
     },
     "execution_count": 22,
     "metadata": {},
     "output_type": "execute_result"
    }
   ],
   "source": [
    "koala1.weight"
   ]
  },
  {
   "cell_type": "markdown",
   "metadata": {
    "cell_style": "center",
    "slideshow": {
     "slide_type": "fragment"
    }
   },
   "source": [
    "\n",
    "- Each bunch of eucalyptus weighs a pound.\n",
    "- Pooping gets rid of half a pound.\n",
    "- If the load in the koala's belly goes past 6 pounds:\n",
    "    - the koala dies by belly explosion."
   ]
  },
  {
   "cell_type": "markdown",
   "metadata": {
    "slideshow": {
     "slide_type": "slide"
    }
   },
   "source": [
    "Now for why all this is relevant to our work in data science."
   ]
  },
  {
   "cell_type": "code",
   "execution_count": 23,
   "metadata": {
    "cell_style": "center",
    "slideshow": {
     "slide_type": "slide"
    }
   },
   "outputs": [],
   "source": [
    "class Standardizer:\n",
    "    \n",
    "    def __init__(self):\n",
    "        self.mean_series = None\n",
    "        self.stdev_series = None\n",
    "    \n",
    "    def fit(self, data):\n",
    "        self.mean_series = data.mean()\n",
    "        self.stdev_series = data.std(ddof = 1)\n",
    "        \n",
    "    def transform(self, X):\n",
    "        X_standard = (X - self.mean_series)/self.stdev_series \n",
    "        return X_standard\n",
    "    \n",
    "    def fit_transform(self, X):\n",
    "        #fit with X\n",
    "        self.fit(X)\n",
    "        #apply transformation to X\n",
    "        transformed = self.transform(X)\n",
    "        return transformed      "
   ]
  },
  {
   "cell_type": "code",
   "execution_count": 24,
   "metadata": {
    "cell_style": "center",
    "slideshow": {
     "slide_type": "slide"
    }
   },
   "outputs": [
    {
     "data": {
      "text/html": [
       "<div>\n",
       "<style scoped>\n",
       "    .dataframe tbody tr th:only-of-type {\n",
       "        vertical-align: middle;\n",
       "    }\n",
       "\n",
       "    .dataframe tbody tr th {\n",
       "        vertical-align: top;\n",
       "    }\n",
       "\n",
       "    .dataframe thead th {\n",
       "        text-align: right;\n",
       "    }\n",
       "</style>\n",
       "<table border=\"1\" class=\"dataframe\">\n",
       "  <thead>\n",
       "    <tr style=\"text-align: right;\">\n",
       "      <th></th>\n",
       "      <th>age</th>\n",
       "      <th>chol</th>\n",
       "      <th>thalach</th>\n",
       "      <th>target</th>\n",
       "    </tr>\n",
       "  </thead>\n",
       "  <tbody>\n",
       "    <tr>\n",
       "      <th>0</th>\n",
       "      <td>63</td>\n",
       "      <td>233</td>\n",
       "      <td>150</td>\n",
       "      <td>1</td>\n",
       "    </tr>\n",
       "    <tr>\n",
       "      <th>1</th>\n",
       "      <td>37</td>\n",
       "      <td>250</td>\n",
       "      <td>187</td>\n",
       "      <td>1</td>\n",
       "    </tr>\n",
       "    <tr>\n",
       "      <th>2</th>\n",
       "      <td>41</td>\n",
       "      <td>204</td>\n",
       "      <td>172</td>\n",
       "      <td>1</td>\n",
       "    </tr>\n",
       "    <tr>\n",
       "      <th>3</th>\n",
       "      <td>56</td>\n",
       "      <td>236</td>\n",
       "      <td>178</td>\n",
       "      <td>1</td>\n",
       "    </tr>\n",
       "    <tr>\n",
       "      <th>4</th>\n",
       "      <td>57</td>\n",
       "      <td>354</td>\n",
       "      <td>163</td>\n",
       "      <td>1</td>\n",
       "    </tr>\n",
       "  </tbody>\n",
       "</table>\n",
       "</div>"
      ],
      "text/plain": [
       "   age  chol  thalach  target\n",
       "0   63   233      150       1\n",
       "1   37   250      187       1\n",
       "2   41   204      172       1\n",
       "3   56   236      178       1\n",
       "4   57   354      163       1"
      ]
     },
     "execution_count": 24,
     "metadata": {},
     "output_type": "execute_result"
    }
   ],
   "source": [
    "import pandas as pd\n",
    "heart_df = pd.read_csv('Data/heart.csv', usecols = ['age', 'chol', 'thalach', 'target'])\n",
    "heart_df.head()"
   ]
  },
  {
   "cell_type": "markdown",
   "metadata": {
    "slideshow": {
     "slide_type": "slide"
    }
   },
   "source": [
    "Split into train and test sets."
   ]
  },
  {
   "cell_type": "code",
   "execution_count": 25,
   "metadata": {
    "cell_style": "center",
    "slideshow": {
     "slide_type": "fragment"
    }
   },
   "outputs": [],
   "source": [
    "from sklearn.model_selection import train_test_split\n",
    "X = heart_df.drop(columns = ['target'])\n",
    "y = heart_df['target']\n",
    "\n",
    "X_train, X_test, y_train, y_test = train_test_split(X, y, test_size = 0.2)"
   ]
  },
  {
   "cell_type": "markdown",
   "metadata": {
    "slideshow": {
     "slide_type": "slide"
    }
   },
   "source": [
    "Let's use our standardizer class! \n",
    "- Instantiate transformer object.\n",
    "- Fit our standardizer object to the training set."
   ]
  },
  {
   "cell_type": "code",
   "execution_count": 26,
   "metadata": {
    "slideshow": {
     "slide_type": "fragment"
    }
   },
   "outputs": [],
   "source": [
    "sd = Standardizer()"
   ]
  },
  {
   "cell_type": "code",
   "execution_count": 31,
   "metadata": {
    "cell_style": "split",
    "slideshow": {
     "slide_type": "fragment"
    }
   },
   "outputs": [],
   "source": [
    "sd.mean_series"
   ]
  },
  {
   "cell_type": "code",
   "execution_count": 32,
   "metadata": {
    "cell_style": "split",
    "slideshow": {
     "slide_type": "fragment"
    }
   },
   "outputs": [],
   "source": [
    "sd.stdev_series"
   ]
  },
  {
   "cell_type": "markdown",
   "metadata": {
    "slideshow": {
     "slide_type": "slide"
    }
   },
   "source": [
    "Fit the transformer."
   ]
  },
  {
   "cell_type": "code",
   "execution_count": 33,
   "metadata": {
    "scrolled": true,
    "slideshow": {
     "slide_type": "fragment"
    }
   },
   "outputs": [],
   "source": [
    "sd.fit(X_train)"
   ]
  },
  {
   "cell_type": "code",
   "execution_count": 34,
   "metadata": {
    "cell_style": "split",
    "slideshow": {
     "slide_type": "fragment"
    }
   },
   "outputs": [
    {
     "data": {
      "text/plain": [
       "age         54.000000\n",
       "chol       246.359504\n",
       "thalach    150.314050\n",
       "dtype: float64"
      ]
     },
     "execution_count": 34,
     "metadata": {},
     "output_type": "execute_result"
    }
   ],
   "source": [
    "sd.mean_series"
   ]
  },
  {
   "cell_type": "code",
   "execution_count": 35,
   "metadata": {
    "cell_style": "split",
    "slideshow": {
     "slide_type": "fragment"
    }
   },
   "outputs": [
    {
     "data": {
      "text/plain": [
       "age         8.998386\n",
       "chol       51.582176\n",
       "thalach    22.434980\n",
       "dtype: float64"
      ]
     },
     "execution_count": 35,
     "metadata": {},
     "output_type": "execute_result"
    }
   ],
   "source": [
    "sd.stdev_series"
   ]
  },
  {
   "cell_type": "markdown",
   "metadata": {
    "slideshow": {
     "slide_type": "fragment"
    }
   },
   "source": [
    "Means and standard deviations for each column:\n",
    "- extracted (fit) from training set.\n",
    "- use these parameters to transform both train and test"
   ]
  },
  {
   "cell_type": "markdown",
   "metadata": {
    "slideshow": {
     "slide_type": "slide"
    }
   },
   "source": [
    "#### Transform train set"
   ]
  },
  {
   "cell_type": "code",
   "execution_count": 36,
   "metadata": {
    "cell_style": "center",
    "scrolled": true,
    "slideshow": {
     "slide_type": "slide"
    }
   },
   "outputs": [
    {
     "data": {
      "text/html": [
       "<div>\n",
       "<style scoped>\n",
       "    .dataframe tbody tr th:only-of-type {\n",
       "        vertical-align: middle;\n",
       "    }\n",
       "\n",
       "    .dataframe tbody tr th {\n",
       "        vertical-align: top;\n",
       "    }\n",
       "\n",
       "    .dataframe thead th {\n",
       "        text-align: right;\n",
       "    }\n",
       "</style>\n",
       "<table border=\"1\" class=\"dataframe\">\n",
       "  <thead>\n",
       "    <tr style=\"text-align: right;\">\n",
       "      <th></th>\n",
       "      <th>age</th>\n",
       "      <th>chol</th>\n",
       "      <th>thalach</th>\n",
       "    </tr>\n",
       "  </thead>\n",
       "  <tbody>\n",
       "    <tr>\n",
       "      <th>270</th>\n",
       "      <td>-0.889048</td>\n",
       "      <td>0.051190</td>\n",
       "      <td>-0.281438</td>\n",
       "    </tr>\n",
       "    <tr>\n",
       "      <th>109</th>\n",
       "      <td>-0.444524</td>\n",
       "      <td>0.148123</td>\n",
       "      <td>0.387161</td>\n",
       "    </tr>\n",
       "    <tr>\n",
       "      <th>91</th>\n",
       "      <td>0.333393</td>\n",
       "      <td>-0.763045</td>\n",
       "      <td>0.788320</td>\n",
       "    </tr>\n",
       "    <tr>\n",
       "      <th>198</th>\n",
       "      <td>0.889048</td>\n",
       "      <td>0.400148</td>\n",
       "      <td>-2.287234</td>\n",
       "    </tr>\n",
       "    <tr>\n",
       "      <th>157</th>\n",
       "      <td>-2.111490</td>\n",
       "      <td>-1.053843</td>\n",
       "      <td>1.055760</td>\n",
       "    </tr>\n",
       "  </tbody>\n",
       "</table>\n",
       "</div>"
      ],
      "text/plain": [
       "          age      chol   thalach\n",
       "270 -0.889048  0.051190 -0.281438\n",
       "109 -0.444524  0.148123  0.387161\n",
       "91   0.333393 -0.763045  0.788320\n",
       "198  0.889048  0.400148 -2.287234\n",
       "157 -2.111490 -1.053843  1.055760"
      ]
     },
     "execution_count": 36,
     "metadata": {},
     "output_type": "execute_result"
    }
   ],
   "source": [
    "X_train_standard = sd.transform(X_train)\n",
    "X_train_standard.head()"
   ]
  },
  {
   "cell_type": "code",
   "execution_count": 37,
   "metadata": {
    "cell_style": "split",
    "slideshow": {
     "slide_type": "fragment"
    }
   },
   "outputs": [
    {
     "name": "stdout",
     "output_type": "stream",
     "text": [
      "<class 'pandas.core.frame.DataFrame'>\n",
      "Int64Index: 242 entries, 270 to 131\n",
      "Data columns (total 3 columns):\n",
      " #   Column   Non-Null Count  Dtype  \n",
      "---  ------   --------------  -----  \n",
      " 0   age      242 non-null    float64\n",
      " 1   chol     242 non-null    float64\n",
      " 2   thalach  242 non-null    float64\n",
      "dtypes: float64(3)\n",
      "memory usage: 7.6 KB\n"
     ]
    }
   ],
   "source": [
    "X_train_standard.info()"
   ]
  },
  {
   "cell_type": "code",
   "execution_count": 38,
   "metadata": {
    "cell_style": "split",
    "slideshow": {
     "slide_type": "fragment"
    }
   },
   "outputs": [
    {
     "data": {
      "text/plain": [
       "age        1.0\n",
       "chol       1.0\n",
       "thalach    1.0\n",
       "dtype: float64"
      ]
     },
     "execution_count": 38,
     "metadata": {},
     "output_type": "execute_result"
    }
   ],
   "source": [
    "X_train_standard.std()"
   ]
  },
  {
   "cell_type": "markdown",
   "metadata": {
    "slideshow": {
     "slide_type": "slide"
    }
   },
   "source": [
    "#### Transform test set\n",
    "- Use fitted parameters to transform test set."
   ]
  },
  {
   "cell_type": "code",
   "execution_count": 39,
   "metadata": {
    "cell_style": "split",
    "scrolled": true,
    "slideshow": {
     "slide_type": "fragment"
    }
   },
   "outputs": [
    {
     "data": {
      "text/html": [
       "<div>\n",
       "<style scoped>\n",
       "    .dataframe tbody tr th:only-of-type {\n",
       "        vertical-align: middle;\n",
       "    }\n",
       "\n",
       "    .dataframe tbody tr th {\n",
       "        vertical-align: top;\n",
       "    }\n",
       "\n",
       "    .dataframe thead th {\n",
       "        text-align: right;\n",
       "    }\n",
       "</style>\n",
       "<table border=\"1\" class=\"dataframe\">\n",
       "  <thead>\n",
       "    <tr style=\"text-align: right;\">\n",
       "      <th></th>\n",
       "      <th>age</th>\n",
       "      <th>chol</th>\n",
       "      <th>thalach</th>\n",
       "    </tr>\n",
       "  </thead>\n",
       "  <tbody>\n",
       "    <tr>\n",
       "      <th>86</th>\n",
       "      <td>1.555835</td>\n",
       "      <td>0.594013</td>\n",
       "      <td>0.030575</td>\n",
       "    </tr>\n",
       "    <tr>\n",
       "      <th>222</th>\n",
       "      <td>1.222441</td>\n",
       "      <td>0.690946</td>\n",
       "      <td>1.055760</td>\n",
       "    </tr>\n",
       "    <tr>\n",
       "      <th>59</th>\n",
       "      <td>0.333393</td>\n",
       "      <td>1.098063</td>\n",
       "      <td>0.387161</td>\n",
       "    </tr>\n",
       "    <tr>\n",
       "      <th>261</th>\n",
       "      <td>-0.222262</td>\n",
       "      <td>-0.317154</td>\n",
       "      <td>0.431734</td>\n",
       "    </tr>\n",
       "    <tr>\n",
       "      <th>88</th>\n",
       "      <td>0.000000</td>\n",
       "      <td>-0.627339</td>\n",
       "      <td>0.342588</td>\n",
       "    </tr>\n",
       "  </tbody>\n",
       "</table>\n",
       "</div>"
      ],
      "text/plain": [
       "          age      chol   thalach\n",
       "86   1.555835  0.594013  0.030575\n",
       "222  1.222441  0.690946  1.055760\n",
       "59   0.333393  1.098063  0.387161\n",
       "261 -0.222262 -0.317154  0.431734\n",
       "88   0.000000 -0.627339  0.342588"
      ]
     },
     "execution_count": 39,
     "metadata": {},
     "output_type": "execute_result"
    }
   ],
   "source": [
    "X_test_standard = sd.transform(X_test)\n",
    "X_test_standard.head()"
   ]
  },
  {
   "cell_type": "code",
   "execution_count": 40,
   "metadata": {
    "cell_style": "split",
    "slideshow": {
     "slide_type": "fragment"
    }
   },
   "outputs": [
    {
     "data": {
      "text/plain": [
       "age        1.038051\n",
       "chol       1.032098\n",
       "thalach    1.100968\n",
       "dtype: float64"
      ]
     },
     "execution_count": 40,
     "metadata": {},
     "output_type": "execute_result"
    }
   ],
   "source": [
    "X_test_standard.std()"
   ]
  },
  {
   "cell_type": "markdown",
   "metadata": {
    "slideshow": {
     "slide_type": "slide"
    }
   },
   "source": [
    "Scikit-learn transformers are instances of class objects."
   ]
  },
  {
   "cell_type": "code",
   "execution_count": 41,
   "metadata": {
    "cell_style": "split",
    "slideshow": {
     "slide_type": "fragment"
    }
   },
   "outputs": [],
   "source": [
    "from sklearn.preprocessing import StandardScaler\n",
    "sklearn_sd = StandardScaler()\n",
    "\n",
    "X_train_sklearn = sklearn_sd.fit_transform(X_train)"
   ]
  },
  {
   "cell_type": "code",
   "execution_count": 42,
   "metadata": {
    "cell_style": "split",
    "slideshow": {
     "slide_type": "fragment"
    }
   },
   "outputs": [
    {
     "data": {
      "text/plain": [
       "array([ 54.        , 246.35950413, 150.31404959])"
      ]
     },
     "execution_count": 42,
     "metadata": {},
     "output_type": "execute_result"
    }
   ],
   "source": [
    "sklearn_sd.mean_"
   ]
  },
  {
   "cell_type": "code",
   "execution_count": 44,
   "metadata": {
    "cell_style": "split",
    "slideshow": {
     "slide_type": "fragment"
    }
   },
   "outputs": [
    {
     "data": {
      "text/plain": [
       "array([ 8.97977526, 51.47549056, 22.38857924])"
      ]
     },
     "execution_count": 44,
     "metadata": {},
     "output_type": "execute_result"
    }
   ],
   "source": [
    "sklearn_sd.scale_"
   ]
  },
  {
   "cell_type": "markdown",
   "metadata": {
    "slideshow": {
     "slide_type": "slide"
    }
   },
   "source": [
    "Looking at the desciptive statistics of the transformed $X_{train}$:"
   ]
  },
  {
   "cell_type": "code",
   "execution_count": 45,
   "metadata": {
    "cell_style": "split"
   },
   "outputs": [
    {
     "name": "stdout",
     "output_type": "stream",
     "text": [
      "[ 0.00000000e+00  2.27549843e-16 -5.13822226e-17]\n"
     ]
    }
   ],
   "source": [
    "print(X_train_sklearn.mean(axis = 0))"
   ]
  },
  {
   "cell_type": "code",
   "execution_count": 46,
   "metadata": {
    "cell_style": "split"
   },
   "outputs": [
    {
     "name": "stdout",
     "output_type": "stream",
     "text": [
      "[1. 1. 1.]\n"
     ]
    }
   ],
   "source": [
    "print(X_train_sklearn.std(axis = 0))"
   ]
  },
  {
   "cell_type": "markdown",
   "metadata": {
    "slideshow": {
     "slide_type": "subslide"
    }
   },
   "source": [
    "Yeah, its doing the same thing as our hard-coded class."
   ]
  },
  {
   "cell_type": "markdown",
   "metadata": {
    "slideshow": {
     "slide_type": "slide"
    }
   },
   "source": [
    "#### Models in scikit-learn\n",
    "- Also classes with different methods.\n",
    "- .fit()\n",
    "- .predict()\n",
    "- .fit_predict()\n",
    "- .score(X,y)\n",
    "\n",
    "LinearRegression() was an example."
   ]
  },
  {
   "cell_type": "code",
   "execution_count": 47,
   "metadata": {
    "slideshow": {
     "slide_type": "slide"
    }
   },
   "outputs": [],
   "source": [
    "from numpy import linalg # linear algebra subpackage\n",
    "import numpy as np"
   ]
  },
  {
   "cell_type": "markdown",
   "metadata": {
    "slideshow": {
     "slide_type": "slide"
    }
   },
   "source": [
    "Implementing custom OLS linear regression class:\n",
    "- sklearn model doing similar things under hood of\n",
    "    - .fit(X,y) method\n",
    "    - .predict(X) method\n",
    "    - etc."
   ]
  },
  {
   "cell_type": "code",
   "execution_count": 48,
   "metadata": {
    "cell_style": "center",
    "slideshow": {
     "slide_type": "slide"
    }
   },
   "outputs": [],
   "source": [
    "class CustomLinearRegression:\n",
    "    \n",
    "    def __init__(self):\n",
    "        self.intercept = None\n",
    "        self.coeff = None\n",
    "        \n",
    "    def fit(self, X_in, y):\n",
    "        \n",
    "        #create a column of 1s for offset fitting\n",
    "        bias_col = np.ones(X_in.shape[0]).reshape(-1,1) \n",
    "    \n",
    "        #augmented data matrix with column of ones\n",
    "        X = np.hstack((bias_col, X_in))\n",
    "        \n",
    "        # weights: result of least squares minimization\n",
    "        w = linalg.inv(X.T@X)@(X.T@y)\n",
    "        # its a formula\n",
    "        \n",
    "        self.intercept = w[0]\n",
    "        self.coeff = w[1::]\n",
    "        \n",
    "    # same as y = beta_0 + beta_1*x_1 + beta_2*x_2 + ... + beta_n*x_n\n",
    "    #just more compact. we'll see later.\n",
    "    def predict(self, X):\n",
    "        y_pred = X@self.coeff + self.intercept\n",
    "        return y_pred\n",
    "    "
   ]
  },
  {
   "cell_type": "markdown",
   "metadata": {
    "slideshow": {
     "slide_type": "slide"
    }
   },
   "source": [
    "Create instances of our custom model and scikit-learn linear regression model"
   ]
  },
  {
   "cell_type": "code",
   "execution_count": 49,
   "metadata": {
    "slideshow": {
     "slide_type": "fragment"
    }
   },
   "outputs": [],
   "source": [
    "from sklearn.linear_model import LinearRegression\n",
    "clr = CustomLinearRegression()\n",
    "sklearn_lr = LinearRegression()"
   ]
  },
  {
   "cell_type": "markdown",
   "metadata": {
    "slideshow": {
     "slide_type": "slide"
    }
   },
   "source": [
    "Scikit-learn linear regression .fit() method:\n",
    "- find weights/model parameters"
   ]
  },
  {
   "cell_type": "code",
   "execution_count": 50,
   "metadata": {
    "cell_style": "split",
    "slideshow": {
     "slide_type": "fragment"
    }
   },
   "outputs": [
    {
     "data": {
      "text/plain": [
       "LinearRegression()"
      ]
     },
     "execution_count": 50,
     "metadata": {},
     "output_type": "execute_result"
    }
   ],
   "source": [
    "clr.fit(X_train, y_train)\n",
    "sklearn_lr.fit(X_train, y_train)"
   ]
  },
  {
   "cell_type": "code",
   "execution_count": 51,
   "metadata": {
    "cell_style": "split",
    "slideshow": {
     "slide_type": "fragment"
    }
   },
   "outputs": [
    {
     "data": {
      "text/plain": [
       "array([-0.00719769, -0.00021616,  0.00955159])"
      ]
     },
     "execution_count": 51,
     "metadata": {},
     "output_type": "execute_result"
    }
   ],
   "source": [
    "clr.coeff"
   ]
  },
  {
   "cell_type": "code",
   "execution_count": 52,
   "metadata": {
    "cell_style": "split",
    "slideshow": {
     "slide_type": "fragment"
    }
   },
   "outputs": [
    {
     "data": {
      "text/plain": [
       "array([-0.00719769, -0.00021616,  0.00955159])"
      ]
     },
     "execution_count": 52,
     "metadata": {},
     "output_type": "execute_result"
    }
   ],
   "source": [
    "sklearn_lr.coef_"
   ]
  },
  {
   "cell_type": "markdown",
   "metadata": {
    "slideshow": {
     "slide_type": "slide"
    }
   },
   "source": [
    "\n",
    "Under the hood, sklearn model is:\n",
    "\n",
    "Class object with model parameters as attributes.\n",
    "\n",
    "- .fit(X,y) method uses formula or algorithm to find model parameters (weights)\n",
    "- used X, y as training data"
   ]
  },
  {
   "cell_type": "markdown",
   "metadata": {
    "slideshow": {
     "slide_type": "slide"
    }
   },
   "source": [
    "- .predict(X) \n",
    "    - learned parameters + X into model\n",
    "    - get prediction"
   ]
  },
  {
   "cell_type": "code",
   "execution_count": 53,
   "metadata": {
    "cell_style": "split",
    "slideshow": {
     "slide_type": "fragment"
    }
   },
   "outputs": [
    {
     "data": {
      "text/plain": [
       "86     0.436351\n",
       "222    0.676550\n",
       "59     0.586318\n",
       "261    0.647638\n",
       "88     0.617598\n",
       "dtype: float64"
      ]
     },
     "execution_count": 53,
     "metadata": {},
     "output_type": "execute_result"
    }
   ],
   "source": [
    "clr.predict(X_test).iloc[0:5]"
   ]
  },
  {
   "cell_type": "code",
   "execution_count": 54,
   "metadata": {
    "cell_style": "split",
    "slideshow": {
     "slide_type": "fragment"
    }
   },
   "outputs": [
    {
     "data": {
      "text/plain": [
       "array([0.43635126, 0.67655007, 0.58631846, 0.64763787, 0.61759782])"
      ]
     },
     "execution_count": 54,
     "metadata": {},
     "output_type": "execute_result"
    }
   ],
   "source": [
    "sklearn_lr.predict(X_test)[0:5]"
   ]
  },
  {
   "cell_type": "markdown",
   "metadata": {
    "slideshow": {
     "slide_type": "slide"
    }
   },
   "source": [
    "We showed:\n",
    "- Clearly how sklearn works under the hood via class objects   \n",
    "- But not integrated into the scikit-learn library\n",
    "    \n"
   ]
  },
  {
   "cell_type": "markdown",
   "metadata": {
    "slideshow": {
     "slide_type": "slide"
    }
   },
   "source": [
    "Next: \n",
    "- Learn about parent/child classes\n",
    "- Inheritance and class hierarchy\n",
    "- Integrate our models/transformers into scikit-learn class hierarchy."
   ]
  },
  {
   "cell_type": "markdown",
   "metadata": {
    "slideshow": {
     "slide_type": "slide"
    }
   },
   "source": [
    "# Level Up: Variables"
   ]
  },
  {
   "cell_type": "markdown",
   "metadata": {
    "slideshow": {
     "slide_type": "fragment"
    }
   },
   "source": [
    "Python is dynamically typed, meaning you don't have to instruct it as to what type of object your variable is.  \n",
    "A variable is a pointer to where an object is stored in memory."
   ]
  },
  {
   "cell_type": "code",
   "execution_count": 55,
   "metadata": {
    "cell_style": "split",
    "slideshow": {
     "slide_type": "fragment"
    }
   },
   "outputs": [
    {
     "name": "stdout",
     "output_type": "stream",
     "text": [
      "140706505162464\n",
      "0x7ff8c941fee0\n"
     ]
    }
   ],
   "source": [
    "x = 3\n",
    "print(id(x))\n",
    "print(hex(id(x)))"
   ]
  },
  {
   "cell_type": "code",
   "execution_count": 56,
   "metadata": {
    "cell_style": "split",
    "slideshow": {
     "slide_type": "fragment"
    }
   },
   "outputs": [
    {
     "data": {
      "text/plain": [
       "'0x7ff8c941fee0'"
      ]
     },
     "execution_count": 56,
     "metadata": {},
     "output_type": "execute_result"
    }
   ],
   "source": [
    "y = 3\n",
    "hex(id(y))"
   ]
  },
  {
   "cell_type": "code",
   "execution_count": 57,
   "metadata": {
    "slideshow": {
     "slide_type": "fragment"
    }
   },
   "outputs": [
    {
     "data": {
      "text/plain": [
       "True"
      ]
     },
     "execution_count": 57,
     "metadata": {},
     "output_type": "execute_result"
    }
   ],
   "source": [
    "x is y"
   ]
  },
  {
   "cell_type": "code",
   "execution_count": 58,
   "metadata": {
    "cell_style": "split",
    "slideshow": {
     "slide_type": "slide"
    }
   },
   "outputs": [],
   "source": [
    "# this can have implications \n",
    "\n",
    "x_list = [1,2,3,4]\n",
    "y_list = x_list"
   ]
  },
  {
   "cell_type": "code",
   "execution_count": 59,
   "metadata": {
    "cell_style": "split",
    "slideshow": {
     "slide_type": "fragment"
    }
   },
   "outputs": [
    {
     "name": "stdout",
     "output_type": "stream",
     "text": [
      "[1, 2, 3]\n",
      "[1, 2, 3]\n"
     ]
    }
   ],
   "source": [
    "x_list.pop()\n",
    "print(x_list)\n",
    "print(y_list)"
   ]
  },
  {
   "cell_type": "code",
   "execution_count": 60,
   "metadata": {
    "slideshow": {
     "slide_type": "slide"
    }
   },
   "outputs": [],
   "source": [
    "# when you use copy(), you create a shallow copy of the object\n",
    "\n",
    "z_list = y_list.copy()"
   ]
  },
  {
   "cell_type": "code",
   "execution_count": 61,
   "metadata": {
    "cell_style": "split",
    "slideshow": {
     "slide_type": "fragment"
    }
   },
   "outputs": [
    {
     "data": {
      "text/plain": [
       "2114734196032"
      ]
     },
     "execution_count": 61,
     "metadata": {},
     "output_type": "execute_result"
    }
   ],
   "source": [
    "id(z_list)"
   ]
  },
  {
   "cell_type": "code",
   "execution_count": 62,
   "metadata": {
    "cell_style": "split",
    "slideshow": {
     "slide_type": "fragment"
    }
   },
   "outputs": [
    {
     "data": {
      "text/plain": [
       "2114733985664"
      ]
     },
     "execution_count": 62,
     "metadata": {},
     "output_type": "execute_result"
    }
   ],
   "source": [
    "id(y_list)"
   ]
  },
  {
   "cell_type": "code",
   "execution_count": 63,
   "metadata": {
    "cell_style": "split",
    "slideshow": {
     "slide_type": "fragment"
    }
   },
   "outputs": [
    {
     "name": "stdout",
     "output_type": "stream",
     "text": [
      "[1, 2]\n",
      "[1, 2, 3]\n"
     ]
    }
   ],
   "source": [
    "y_list.pop()\n",
    "print(y_list)\n",
    "print(z_list)"
   ]
  },
  {
   "cell_type": "code",
   "execution_count": 71,
   "metadata": {
    "cell_style": "split",
    "slideshow": {
     "slide_type": "fragment"
    }
   },
   "outputs": [
    {
     "data": {
      "text/plain": [
       "[['z', 2, 3], [4, 5, 6]]"
      ]
     },
     "execution_count": 71,
     "metadata": {},
     "output_type": "execute_result"
    }
   ],
   "source": [
    "a_list = [[1,2,3], [4,5,6]]\n",
    "b_list = a_list.copy()\n",
    "b_list[0][0] ='z'\n",
    "a_list"
   ]
  },
  {
   "cell_type": "code",
   "execution_count": 68,
   "metadata": {
    "slideshow": {
     "slide_type": "slide"
    }
   },
   "outputs": [
    {
     "data": {
      "text/plain": [
       "[[1, 2, 3], [4, 5, 6]]"
      ]
     },
     "execution_count": 68,
     "metadata": {},
     "output_type": "execute_result"
    }
   ],
   "source": [
    "import copy\n",
    "\n",
    "# deepcopy is needed for mutable objects\n",
    "\n",
    "a_list = [[1,2,3], [4,5,6]]\n",
    "b_list = copy.deepcopy(a_list)\n",
    "b_list[0][0] ='z'\n",
    "a_list"
   ]
  },
  {
   "cell_type": "markdown",
   "metadata": {
    "slideshow": {
     "slide_type": "fragment"
    }
   },
   "source": [
    "For more details on this general feature of Python, see [here](https://jakevdp.github.io/WhirlwindTourOfPython/03-semantics-variables.html).\n",
    "For more on shallow and deep copying, go [here](https://docs.python.org/3/library/copy.html#copy.deepcopy)."
   ]
  },
  {
   "cell_type": "markdown",
   "metadata": {
    "slideshow": {
     "slide_type": "slide"
    }
   },
   "source": [
    "# Level Up: `*args` and `**kwargs`"
   ]
  },
  {
   "cell_type": "markdown",
   "metadata": {},
   "source": [
    "There are times when we want to have more flexibility in how we pass parameters to our functions/methods."
   ]
  },
  {
   "cell_type": "markdown",
   "metadata": {},
   "source": [
    "There's a whole lot we can discuss on this (checkout the [argument](https://docs.python.org/3/glossary.html#term-argument) & [parameter](https://docs.python.org/3/glossary.html#term-parameter) documentation for more details), but specifically we'll briefly discuss using `*args` and `**kwargs` in our functions/methods"
   ]
  },
  {
   "cell_type": "markdown",
   "metadata": {},
   "source": [
    "> **NOTE**\n",
    ">\n",
    "> `*args` and `**kwargs` can be used in methods (functions associated with classes & objects) or in plain functions"
   ]
  },
  {
   "cell_type": "markdown",
   "metadata": {},
   "source": [
    "## `*` Operator: `*args`"
   ]
  },
  {
   "cell_type": "markdown",
   "metadata": {},
   "source": [
    "The single-asterisk operator `*` can be used to unpack iterables."
   ]
  },
  {
   "cell_type": "code",
   "execution_count": 72,
   "metadata": {},
   "outputs": [],
   "source": [
    "def product(factor1, factor2):\n",
    "    out = factor1 * factor2\n",
    "    return out"
   ]
  },
  {
   "cell_type": "markdown",
   "metadata": {},
   "source": [
    "But if I want the product of *three* numbers this function won't do:\n",
    "\n",
    "```python\n",
    "product(3, 5, 6)\n",
    "```"
   ]
  },
  {
   "cell_type": "markdown",
   "metadata": {},
   "source": [
    "A nice way around this problem is to use the `*` operator."
   ]
  },
  {
   "cell_type": "code",
   "execution_count": 73,
   "metadata": {},
   "outputs": [],
   "source": [
    "def product_better(*factors):\n",
    "    out = 1\n",
    "    for f in factors:\n",
    "        out *= f\n",
    "    return out"
   ]
  },
  {
   "cell_type": "code",
   "execution_count": 74,
   "metadata": {
    "cell_style": "split"
   },
   "outputs": [
    {
     "data": {
      "text/plain": [
       "2"
      ]
     },
     "execution_count": 74,
     "metadata": {},
     "output_type": "execute_result"
    }
   ],
   "source": [
    "product_better(2)"
   ]
  },
  {
   "cell_type": "code",
   "execution_count": 75,
   "metadata": {
    "cell_style": "split"
   },
   "outputs": [
    {
     "data": {
      "text/plain": [
       "8"
      ]
     },
     "execution_count": 75,
     "metadata": {},
     "output_type": "execute_result"
    }
   ],
   "source": [
    "product_better(2, 4)"
   ]
  },
  {
   "cell_type": "code",
   "execution_count": 76,
   "metadata": {},
   "outputs": [
    {
     "data": {
      "text/plain": [
       "32768"
      ]
     },
     "execution_count": 76,
     "metadata": {},
     "output_type": "execute_result"
    }
   ],
   "source": [
    "product_better(2, 4, 8, 16, 32)"
   ]
  },
  {
   "cell_type": "markdown",
   "metadata": {},
   "source": [
    "We can also use this notation to unpack an iterable to a function and will use each value as a _positional parameter_."
   ]
  },
  {
   "cell_type": "code",
   "execution_count": 77,
   "metadata": {},
   "outputs": [
    {
     "name": "stdout",
     "output_type": "stream",
     "text": [
      "1 2 3 4 5\n"
     ]
    },
    {
     "data": {
      "text/plain": [
       "120"
      ]
     },
     "execution_count": 77,
     "metadata": {},
     "output_type": "execute_result"
    }
   ],
   "source": [
    "my_list_of_numbers = [1,2,3,4,5]\n",
    "\n",
    "print(*my_list_of_numbers)\n",
    "product_better(*my_list_of_numbers)"
   ]
  },
  {
   "cell_type": "code",
   "execution_count": 78,
   "metadata": {},
   "outputs": [
    {
     "name": "stdout",
     "output_type": "stream",
     "text": [
      "2 4 6 8\n"
     ]
    },
    {
     "data": {
      "text/plain": [
       "384"
      ]
     },
     "execution_count": 78,
     "metadata": {},
     "output_type": "execute_result"
    }
   ],
   "source": [
    "# Works for other iterables too!\n",
    "\n",
    "my_range = range(2,10,2)\n",
    "\n",
    "print(*my_range)\n",
    "product_better(*my_range)"
   ]
  },
  {
   "cell_type": "markdown",
   "metadata": {},
   "source": [
    "## `**` Operator: `*kwargs`"
   ]
  },
  {
   "cell_type": "markdown",
   "metadata": {},
   "source": [
    "The double-asterisk operator  `∗∗`  is used for _keyword arguments_, i.e. _named arguments_.\n"
   ]
  },
  {
   "cell_type": "code",
   "execution_count": 79,
   "metadata": {},
   "outputs": [],
   "source": [
    "def hello_to_the_office(**kwargs):\n",
    "    hello_strs = []\n",
    "    # Iterate through each item of kwargs (a dictionary!)\n",
    "    for position_title, name in kwargs.items():\n",
    "        # Note that the keys are going to be treated as a string\n",
    "        hello_strs.append(f'Hi {name}, the {position_title.title()}!')\n",
    "        \n",
    "    print('\\n'.join(hello_strs))"
   ]
  },
  {
   "cell_type": "code",
   "execution_count": 80,
   "metadata": {},
   "outputs": [
    {
     "name": "stdout",
     "output_type": "stream",
     "text": [
      "Hi Michael, the Regional_Manager!\n",
      "Hi Pam, the Office_Administrato!\n",
      "Hi Jim, the Regional_Co_Manager!\n",
      "Hi Dwight, the Asssistant_To_The_Regional_Manager!\n"
     ]
    }
   ],
   "source": [
    "hello_to_the_office(\n",
    "    regional_manager='Michael',\n",
    "    office_administrato='Pam',\n",
    "    regional_co_manager='Jim',\n",
    "    asssistant_to_the_regional_manager='Dwight'\n",
    ")"
   ]
  },
  {
   "cell_type": "markdown",
   "metadata": {},
   "source": [
    "Here's a more complicated function that also uses `**kwargs`"
   ]
  },
  {
   "cell_type": "code",
   "execution_count": 81,
   "metadata": {},
   "outputs": [],
   "source": [
    "def report(to_print=True, **kwargs):\n",
    "    \n",
    "    # Effectively, kwargs is a dictionary\n",
    "    the_keys = ';'.join(kwargs.keys())\n",
    "    the_values = kwargs.values()\n",
    "    \n",
    "    # Note the safe way of getting the values\n",
    "    if kwargs.get('is_bot'):\n",
    "        print('ROBOT ALERT!!')\n",
    "    \n",
    "    if to_print:\n",
    "        print(f'''\n",
    "            The Keys:\n",
    "                {the_keys}\n",
    "            The Values:\n",
    "                {the_values}\n",
    "        ''')\n",
    "    else:\n",
    "        return the_keys, the_values"
   ]
  },
  {
   "cell_type": "code",
   "execution_count": 82,
   "metadata": {},
   "outputs": [
    {
     "name": "stdout",
     "output_type": "stream",
     "text": [
      "\n",
      "            The Keys:\n",
      "                name;birth_year\n",
      "            The Values:\n",
      "                dict_values(['Fry', 1985])\n",
      "        \n"
     ]
    }
   ],
   "source": [
    "# Note that these arguments were never defined in the report() function\n",
    "report(name='Fry', birth_year=1985)"
   ]
  },
  {
   "cell_type": "code",
   "execution_count": 83,
   "metadata": {},
   "outputs": [
    {
     "name": "stdout",
     "output_type": "stream",
     "text": [
      "ROBOT ALERT!!\n",
      "\n",
      "            The Keys:\n",
      "                name;titanium_level;birth_year;is_bot\n",
      "            The Values:\n",
      "                dict_values(['Bender', 0.4, 2996, True])\n",
      "        \n"
     ]
    }
   ],
   "source": [
    "report(name='Bender', titanium_level=0.4, birth_year=2996, is_bot=True)"
   ]
  },
  {
   "cell_type": "markdown",
   "metadata": {},
   "source": [
    "We can also use the `**` operator to unpack a dictionary to a function as _named parameters_."
   ]
  },
  {
   "cell_type": "code",
   "execution_count": null,
   "metadata": {},
   "outputs": [],
   "source": [
    "def named_parameter_function(param0, param1, default=10):\n",
    "    return (param0, param1, default)"
   ]
  },
  {
   "cell_type": "code",
   "execution_count": null,
   "metadata": {},
   "outputs": [],
   "source": [
    "my_params = {'param0':'Zero', 'param1':10000, 'default':False}\n",
    "\n",
    "named_parameter_function(**my_params)"
   ]
  },
  {
   "cell_type": "code",
   "execution_count": null,
   "metadata": {},
   "outputs": [],
   "source": []
  },
  {
   "cell_type": "code",
   "execution_count": null,
   "metadata": {},
   "outputs": [],
   "source": []
  },
  {
   "cell_type": "code",
   "execution_count": null,
   "metadata": {},
   "outputs": [],
   "source": []
  },
  {
   "cell_type": "code",
   "execution_count": null,
   "metadata": {},
   "outputs": [],
   "source": []
  },
  {
   "cell_type": "code",
   "execution_count": null,
   "metadata": {},
   "outputs": [],
   "source": []
  },
  {
   "cell_type": "code",
   "execution_count": null,
   "metadata": {},
   "outputs": [],
   "source": []
  }
 ],
 "metadata": {
  "kernelspec": {
   "display_name": "Python (learn-env)",
   "language": "python",
   "name": "learn-env"
  },
  "language_info": {
   "codemirror_mode": {
    "name": "ipython",
    "version": 3
   },
   "file_extension": ".py",
   "mimetype": "text/x-python",
   "name": "python",
   "nbconvert_exporter": "python",
   "pygments_lexer": "ipython3",
   "version": "3.8.5"
  },
  "toc": {
   "base_numbering": 1,
   "nav_menu": {},
   "number_sections": true,
   "sideBar": true,
   "skip_h1_title": false,
   "title_cell": "Table of Contents",
   "title_sidebar": "TOC",
   "toc_cell": true,
   "toc_position": {
    "height": "439px",
    "left": "10px",
    "top": "150px",
    "width": "363px"
   },
   "toc_section_display": true,
   "toc_window_display": true
  }
 },
 "nbformat": 4,
 "nbformat_minor": 4
}
